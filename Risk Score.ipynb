{
 "cells": [
  {
   "cell_type": "code",
   "execution_count": 202,
   "id": "fe0e798f-3b11-4eaa-a410-3289dd36ead8",
   "metadata": {},
   "outputs": [],
   "source": [
    "import pandas as pd\n",
    "import numpy as np\n",
    "import seaborn as sns\n",
    "import matplotlib.pyplot as plt\n",
    "from sklearn.model_selection import train_test_split\n",
    "from sklearn.neighbors import KNeighborsClassifier\n",
    "from sklearn.tree import DecisionTreeClassifier\n",
    "from sklearn.preprocessing import OneHotEncoder, StandardScaler, OrdinalEncoder, RobustScaler, MinMaxScaler, LabelEncoder\n",
    "from sklearn.compose import ColumnTransformer\n",
    "from sklearn.pipeline import Pipeline\n",
    "from sklearn.impute import SimpleImputer\n",
    "from sklearn.feature_selection import mutual_info_classif\n",
    "from yellowbrick.classifier import ROCAUC\n",
    "import klib\n",
    "from sklearn.metrics import precision_score, recall_score\n",
    "from sklearn.preprocessing import MinMaxScaler\n",
    "pd.set_option('display.max_rows', None)\n",
    "pd.set_option('display.max_columns', None)"
   ]
  },
  {
   "cell_type": "code",
   "execution_count": 204,
   "id": "4803364b-78ce-49d7-b4e3-9b40483d2dc2",
   "metadata": {},
   "outputs": [
    {
     "name": "stdout",
     "output_type": "stream",
     "text": [
      "[Errno 2] No such file or directory: 'downloads'\n",
      "/Users/jameslee/Downloads\n"
     ]
    }
   ],
   "source": [
    "cd downloads"
   ]
  },
  {
   "cell_type": "code",
   "execution_count": 206,
   "id": "ececbe2e-cdb4-4e67-abf9-46b42c27e0a0",
   "metadata": {},
   "outputs": [
    {
     "name": "stdout",
     "output_type": "stream",
     "text": [
      "Shape of cleaned data: (148670, 31) - Remaining NAs: 157014\n",
      "\n",
      "\n",
      "Dropped rows: 0\n",
      "     of which 0 duplicates. (Rows (first 150 shown): [])\n",
      "\n",
      "Dropped columns: 0\n",
      "     of which 0 single valued.     Columns: []\n",
      "Dropped missing values: 0\n",
      "Reduced memory by at least: 26.65 MB (-75.8%)\n",
      "\n",
      "Shape of cleaned data: (143983, 69) - Remaining NAs: 0\n",
      "\n",
      "\n",
      "Dropped rows: 0\n",
      "     of which 0 duplicates. (Rows (first 150 shown): [])\n",
      "\n",
      "Dropped columns: 0\n",
      "     of which 0 single valued.     Columns: []\n",
      "Dropped missing values: 0\n",
      "Reduced memory by at least: 1.43 MB (-6.15%)\n",
      "\n"
     ]
    }
   ],
   "source": [
    "risk = pd.read_csv('Loan_Default.csv')\n",
    "#risk = risk.drop(columns=['ID','year','dtir1'])\n",
    "risk = klib.data_cleaning(risk)\n",
    "\n",
    "numeric_columns = risk.select_dtypes(exclude=['category', 'int8']).columns.difference(['status'])\n",
    "risk[numeric_columns] = risk.groupby('status')[numeric_columns].transform(lambda x: x.fillna(x.mean()))\n",
    "\n",
    "numerical_columns = risk.select_dtypes(exclude=['category','int8']).columns\n",
    "imputer = SimpleImputer(strategy='median')\n",
    "risk[numerical_columns] = imputer.fit_transform(risk[numerical_columns])\n",
    "risk = risk.dropna()\n",
    "risk = pd.get_dummies(risk, columns=risk.select_dtypes(include=['category']).columns)\n",
    "risk = klib.data_cleaning(risk)\n"
   ]
  },
  {
   "cell_type": "code",
   "execution_count": 207,
   "id": "c0e55140-5569-4a1c-b7a9-0d710d1747e6",
   "metadata": {},
   "outputs": [
    {
     "name": "stdout",
     "output_type": "stream",
     "text": [
      "<class 'pandas.core.frame.DataFrame'>\n",
      "RangeIndex: 143983 entries, 0 to 143982\n",
      "Data columns (total 69 columns):\n",
      " #   Column                              Non-Null Count   Dtype  \n",
      "---  ------                              --------------   -----  \n",
      " 0   loan_amount                         143983 non-null  float32\n",
      " 1   rate_of_interest                    143983 non-null  float32\n",
      " 2   interest_rate_spread                143983 non-null  float32\n",
      " 3   upfront_charges                     143983 non-null  float64\n",
      " 4   term                                143983 non-null  float32\n",
      " 5   property_value                      143983 non-null  float32\n",
      " 6   income                              143983 non-null  float32\n",
      " 7   credit_score                        143983 non-null  float32\n",
      " 8   ltv                                 143983 non-null  float32\n",
      " 9   status                              143983 non-null  int8   \n",
      " 10  loan_limit_cf                       143983 non-null  boolean\n",
      " 11  loan_limit_ncf                      143983 non-null  boolean\n",
      " 12  gender_female                       143983 non-null  boolean\n",
      " 13  gender_joint                        143983 non-null  boolean\n",
      " 14  gender_male                         143983 non-null  boolean\n",
      " 15  gender_sex_not_available            143983 non-null  boolean\n",
      " 16  approv_in_adv_nopre                 143983 non-null  boolean\n",
      " 17  approv_in_adv_pre                   143983 non-null  boolean\n",
      " 18  loan_type_type1                     143983 non-null  boolean\n",
      " 19  loan_type_type2                     143983 non-null  boolean\n",
      " 20  loan_type_type3                     143983 non-null  boolean\n",
      " 21  loan_purpose_p1                     143983 non-null  boolean\n",
      " 22  loan_purpose_p2                     143983 non-null  boolean\n",
      " 23  loan_purpose_p3                     143983 non-null  boolean\n",
      " 24  loan_purpose_p4                     143983 non-null  boolean\n",
      " 25  credit_worthiness_l1                143983 non-null  boolean\n",
      " 26  credit_worthiness_l2                143983 non-null  boolean\n",
      " 27  open_credit_nopc                    143983 non-null  boolean\n",
      " 28  open_credit_opc                     143983 non-null  boolean\n",
      " 29  business_or_commercial_b_c          143983 non-null  boolean\n",
      " 30  business_or_commercial_nob_c        143983 non-null  boolean\n",
      " 31  neg_ammortization_neg_amm           143983 non-null  boolean\n",
      " 32  neg_ammortization_not_neg           143983 non-null  boolean\n",
      " 33  interest_only_int_only              143983 non-null  boolean\n",
      " 34  interest_only_not_int               143983 non-null  boolean\n",
      " 35  lump_sum_payment_lpsm               143983 non-null  boolean\n",
      " 36  lump_sum_payment_not_lpsm           143983 non-null  boolean\n",
      " 37  construction_type_mh                143983 non-null  boolean\n",
      " 38  construction_type_sb                143983 non-null  boolean\n",
      " 39  occupancy_type_ir                   143983 non-null  boolean\n",
      " 40  occupancy_type_pr                   143983 non-null  boolean\n",
      " 41  occupancy_type_sr                   143983 non-null  boolean\n",
      " 42  secured_by_home                     143983 non-null  boolean\n",
      " 43  secured_by_land                     143983 non-null  boolean\n",
      " 44  total_units_1u                      143983 non-null  boolean\n",
      " 45  total_units_2u                      143983 non-null  boolean\n",
      " 46  total_units_3u                      143983 non-null  boolean\n",
      " 47  total_units_4u                      143983 non-null  boolean\n",
      " 48  credit_type_cib                     143983 non-null  boolean\n",
      " 49  credit_type_crif                    143983 non-null  boolean\n",
      " 50  credit_type_equi                    143983 non-null  boolean\n",
      " 51  credit_type_exp                     143983 non-null  boolean\n",
      " 52  co_applicant_credit_type_cib        143983 non-null  boolean\n",
      " 53  co_applicant_credit_type_exp        143983 non-null  boolean\n",
      " 54  age_25_34                           143983 non-null  boolean\n",
      " 55  age_35_44                           143983 non-null  boolean\n",
      " 56  age_45_54                           143983 non-null  boolean\n",
      " 57  age_55_64                           143983 non-null  boolean\n",
      " 58  age_65_74                           143983 non-null  boolean\n",
      " 59  age_smaller25                       143983 non-null  boolean\n",
      " 60  age_larger_74                       143983 non-null  boolean\n",
      " 61  submission_of_application_not_inst  143983 non-null  boolean\n",
      " 62  submission_of_application_to_inst   143983 non-null  boolean\n",
      " 63  region_north                        143983 non-null  boolean\n",
      " 64  region_north_east                   143983 non-null  boolean\n",
      " 65  region_central                      143983 non-null  boolean\n",
      " 66  region_south                        143983 non-null  boolean\n",
      " 67  security_type_indriect              143983 non-null  boolean\n",
      " 68  security_type_direct                143983 non-null  boolean\n",
      "dtypes: boolean(59), float32(8), float64(1), int8(1)\n",
      "memory usage: 21.8 MB\n"
     ]
    }
   ],
   "source": [
    "risk.info()"
   ]
  },
  {
   "cell_type": "code",
   "execution_count": 208,
   "id": "61268467-3740-4d79-b556-540fbd0798c6",
   "metadata": {},
   "outputs": [],
   "source": [
    "from sklearn.preprocessing import RobustScaler\n",
    "\n",
    "scaler = RobustScaler()\n",
    "\n",
    "numeric_columns = risk.select_dtypes(exclude=['boolean','int8']).columns\n",
    "risk[numeric_columns] = scaler.fit_transform(risk[numeric_columns])\n"
   ]
  },
  {
   "cell_type": "code",
   "execution_count": 209,
   "id": "12ac5574-d1db-4549-b4b3-e369a0819d36",
   "metadata": {},
   "outputs": [],
   "source": [
    "risk['risk_score'] = risk.sum(axis=1)"
   ]
  },
  {
   "cell_type": "code",
   "execution_count": 210,
   "id": "310f7b5b-25e7-4561-a976-3d08c0ad4e4f",
   "metadata": {},
   "outputs": [
    {
     "data": {
      "text/plain": [
       "0    20.702226\n",
       "1    20.831288\n",
       "2    22.966157\n",
       "3    24.046052\n",
       "4    23.676927\n",
       "Name: risk_score, dtype: object"
      ]
     },
     "execution_count": 210,
     "metadata": {},
     "output_type": "execute_result"
    }
   ],
   "source": [
    "risk['risk_score'].head()"
   ]
  },
  {
   "cell_type": "code",
   "execution_count": 211,
   "id": "6165ac63-6be9-4154-b0b0-1c7ff0e75295",
   "metadata": {},
   "outputs": [
    {
     "name": "stdout",
     "output_type": "stream",
     "text": [
      "Shape of cleaned data: (148670, 31) - Remaining NAs: 157014\n",
      "\n",
      "\n",
      "Dropped rows: 0\n",
      "     of which 0 duplicates. (Rows (first 150 shown): [])\n",
      "\n",
      "Dropped columns: 0\n",
      "     of which 0 single valued.     Columns: []\n",
      "Dropped missing values: 0\n",
      "Reduced memory by at least: 26.65 MB (-75.8%)\n",
      "\n"
     ]
    }
   ],
   "source": [
    "df = pd.read_csv('Loan_Default.csv')\n",
    "#risk = risk.drop(columns=['ID','year','dtir1'])\n",
    "df = klib.data_cleaning(df)\n",
    "\n",
    "numeric_columns = df.select_dtypes(exclude=['category', 'int8']).columns.difference(['status'])\n",
    "df[numeric_columns] = df.groupby('status')[numeric_columns].transform(lambda x: x.fillna(x.mean()))\n",
    "\n",
    "numerical_columns = df.select_dtypes(exclude=['category','int8']).columns\n",
    "imputer = SimpleImputer(strategy='median')\n",
    "df[numerical_columns] = imputer.fit_transform(df[numerical_columns])\n",
    "df = df.dropna()"
   ]
  },
  {
   "cell_type": "code",
   "execution_count": 212,
   "id": "48ea821d-3dff-4c4f-b64d-23f8bf4fbb3a",
   "metadata": {},
   "outputs": [],
   "source": [
    "df = df[['credit_score', 'property_value', 'age', 'status', 'loan_amount', 'ltv', 'income']]\n",
    "df = pd.get_dummies(df, columns=df.select_dtypes(include=['category']).columns)"
   ]
  },
  {
   "cell_type": "code",
   "execution_count": 213,
   "id": "e90b5b9a-9cd7-408b-ae85-e48e763dac53",
   "metadata": {},
   "outputs": [],
   "source": [
    "df['risk_score'] = risk['risk_score']"
   ]
  },
  {
   "cell_type": "code",
   "execution_count": 214,
   "id": "9f07e64c-d433-4b72-94f2-a35929562f00",
   "metadata": {},
   "outputs": [
    {
     "data": {
      "text/html": [
       "<div>\n",
       "<style scoped>\n",
       "    .dataframe tbody tr th:only-of-type {\n",
       "        vertical-align: middle;\n",
       "    }\n",
       "\n",
       "    .dataframe tbody tr th {\n",
       "        vertical-align: top;\n",
       "    }\n",
       "\n",
       "    .dataframe thead th {\n",
       "        text-align: right;\n",
       "    }\n",
       "</style>\n",
       "<table border=\"1\" class=\"dataframe\">\n",
       "  <thead>\n",
       "    <tr style=\"text-align: right;\">\n",
       "      <th></th>\n",
       "      <th>credit_score</th>\n",
       "      <th>property_value</th>\n",
       "      <th>status</th>\n",
       "      <th>loan_amount</th>\n",
       "      <th>ltv</th>\n",
       "      <th>income</th>\n",
       "      <th>age_25-34</th>\n",
       "      <th>age_35-44</th>\n",
       "      <th>age_45-54</th>\n",
       "      <th>age_55-64</th>\n",
       "      <th>age_65-74</th>\n",
       "      <th>age_&lt;25</th>\n",
       "      <th>age_&gt;74</th>\n",
       "      <th>risk_score</th>\n",
       "    </tr>\n",
       "  </thead>\n",
       "  <tbody>\n",
       "    <tr>\n",
       "      <th>0</th>\n",
       "      <td>758.0</td>\n",
       "      <td>118000.00000</td>\n",
       "      <td>1</td>\n",
       "      <td>116500.0</td>\n",
       "      <td>98.728813</td>\n",
       "      <td>1740.0</td>\n",
       "      <td>True</td>\n",
       "      <td>False</td>\n",
       "      <td>False</td>\n",
       "      <td>False</td>\n",
       "      <td>False</td>\n",
       "      <td>False</td>\n",
       "      <td>False</td>\n",
       "      <td>20.702226</td>\n",
       "    </tr>\n",
       "    <tr>\n",
       "      <th>1</th>\n",
       "      <td>552.0</td>\n",
       "      <td>457786.03125</td>\n",
       "      <td>1</td>\n",
       "      <td>206500.0</td>\n",
       "      <td>76.291466</td>\n",
       "      <td>4980.0</td>\n",
       "      <td>False</td>\n",
       "      <td>False</td>\n",
       "      <td>False</td>\n",
       "      <td>True</td>\n",
       "      <td>False</td>\n",
       "      <td>False</td>\n",
       "      <td>False</td>\n",
       "      <td>20.831288</td>\n",
       "    </tr>\n",
       "    <tr>\n",
       "      <th>2</th>\n",
       "      <td>834.0</td>\n",
       "      <td>508000.00000</td>\n",
       "      <td>0</td>\n",
       "      <td>406500.0</td>\n",
       "      <td>80.019684</td>\n",
       "      <td>9480.0</td>\n",
       "      <td>False</td>\n",
       "      <td>True</td>\n",
       "      <td>False</td>\n",
       "      <td>False</td>\n",
       "      <td>False</td>\n",
       "      <td>False</td>\n",
       "      <td>False</td>\n",
       "      <td>22.966157</td>\n",
       "    </tr>\n",
       "    <tr>\n",
       "      <th>3</th>\n",
       "      <td>587.0</td>\n",
       "      <td>658000.00000</td>\n",
       "      <td>0</td>\n",
       "      <td>456500.0</td>\n",
       "      <td>69.376900</td>\n",
       "      <td>11880.0</td>\n",
       "      <td>False</td>\n",
       "      <td>False</td>\n",
       "      <td>True</td>\n",
       "      <td>False</td>\n",
       "      <td>False</td>\n",
       "      <td>False</td>\n",
       "      <td>False</td>\n",
       "      <td>24.046052</td>\n",
       "    </tr>\n",
       "    <tr>\n",
       "      <th>4</th>\n",
       "      <td>602.0</td>\n",
       "      <td>758000.00000</td>\n",
       "      <td>0</td>\n",
       "      <td>696500.0</td>\n",
       "      <td>91.886543</td>\n",
       "      <td>10440.0</td>\n",
       "      <td>True</td>\n",
       "      <td>False</td>\n",
       "      <td>False</td>\n",
       "      <td>False</td>\n",
       "      <td>False</td>\n",
       "      <td>False</td>\n",
       "      <td>False</td>\n",
       "      <td>23.676927</td>\n",
       "    </tr>\n",
       "  </tbody>\n",
       "</table>\n",
       "</div>"
      ],
      "text/plain": [
       "   credit_score  property_value  status  loan_amount        ltv   income  \\\n",
       "0         758.0    118000.00000       1     116500.0  98.728813   1740.0   \n",
       "1         552.0    457786.03125       1     206500.0  76.291466   4980.0   \n",
       "2         834.0    508000.00000       0     406500.0  80.019684   9480.0   \n",
       "3         587.0    658000.00000       0     456500.0  69.376900  11880.0   \n",
       "4         602.0    758000.00000       0     696500.0  91.886543  10440.0   \n",
       "\n",
       "   age_25-34  age_35-44  age_45-54  age_55-64  age_65-74  age_<25  age_>74  \\\n",
       "0       True      False      False      False      False    False    False   \n",
       "1      False      False      False       True      False    False    False   \n",
       "2      False       True      False      False      False    False    False   \n",
       "3      False      False       True      False      False    False    False   \n",
       "4       True      False      False      False      False    False    False   \n",
       "\n",
       "  risk_score  \n",
       "0  20.702226  \n",
       "1  20.831288  \n",
       "2  22.966157  \n",
       "3  24.046052  \n",
       "4  23.676927  "
      ]
     },
     "execution_count": 214,
     "metadata": {},
     "output_type": "execute_result"
    }
   ],
   "source": [
    "df.head()"
   ]
  },
  {
   "cell_type": "code",
   "execution_count": 215,
   "id": "2a8c248e-2264-45a5-a9ab-eba3397d47e0",
   "metadata": {},
   "outputs": [],
   "source": [
    "# Consolidate age columns into a single 'age' feature based on the age range categories\n",
    "import numpy as np\n",
    "\n",
    "# Define a function to assign age values based on the boolean age range columns\n",
    "def calculate_age(row):\n",
    "    if row['age_<25']:\n",
    "        return 20  # average age for <25 category\n",
    "    elif row['age_25-34']:\n",
    "        return 30  # average age for 25-34 category\n",
    "    elif row['age_35-44']:\n",
    "        return 40  # average age for 35-44 category\n",
    "    elif row['age_45-54']:\n",
    "        return 50  # average age for 45-54 category\n",
    "    elif row['age_55-64']:\n",
    "        return 60  # average age for 55-64 category\n",
    "    elif row['age_65-74']:\n",
    "        return 70  # average age for 65-74 category\n",
    "    elif row['age_>74']:\n",
    "        return 80  # average age for >74 category\n",
    "    return np.nan  # handle any cases where none apply\n",
    "\n",
    "# Apply the function to create a single 'age' column\n",
    "df['age'] = df.apply(calculate_age, axis=1)\n",
    "\n",
    "# Drop the original age category columns\n",
    "age_columns = ['age_25-34', 'age_35-44', 'age_45-54', 'age_55-64', 'age_65-74', 'age_<25', 'age_>74']\n",
    "df = df.drop(columns=age_columns)\n",
    "df = df.dropna()"
   ]
  },
  {
   "cell_type": "code",
   "execution_count": 216,
   "id": "3297af6b-3b3b-4959-a989-0734a15efd6e",
   "metadata": {},
   "outputs": [],
   "source": [
    "features = ['credit_score', 'property_value', 'status', 'loan_amount', 'ltv', 'income', 'age']\n",
    "X = df[features]\n",
    "y = df['risk_score']"
   ]
  },
  {
   "cell_type": "code",
   "execution_count": 217,
   "id": "33592ee1-3039-472f-b6a6-4e66a7c957d6",
   "metadata": {},
   "outputs": [],
   "source": [
    "# Standardize the features\n",
    "scaler = RobustScaler()\n",
    "X_scaled = scaler.fit_transform(X)"
   ]
  },
  {
   "cell_type": "code",
   "execution_count": 218,
   "id": "235a87df-7c9d-4a1a-84c9-24af80cfb844",
   "metadata": {},
   "outputs": [
    {
     "name": "stdout",
     "output_type": "stream",
     "text": [
      "Mean Squared Error: 3529.4367352599925\n",
      "Feature Weights: {'credit_score': -0.05761531634398718, 'property_value': -0.008863050042890508, 'status': -0.3535157132907354, 'loan_amount': -0.24730885462408836, 'ltv': 0.12069516689430103, 'income': -0.023512353192313536, 'age': 0.07827193005652315}\n"
     ]
    }
   ],
   "source": [
    "from sklearn.linear_model import LinearRegression\n",
    "from sklearn.model_selection import train_test_split\n",
    "from sklearn.metrics import mean_squared_error\n",
    "\n",
    "# Split the cleaned dataset into training and testing sets\n",
    "X_train, X_test, y_train, y_test = train_test_split(X_scaled, y, test_size=0.2, random_state=42)\n",
    "\n",
    "# Fit a linear regression model to learn the weights\n",
    "model = LinearRegression()\n",
    "model.fit(X_train, y_train)\n",
    "\n",
    "# Predict on the test set and evaluate performance\n",
    "y_pred = model.predict(X_test)\n",
    "mse = mean_squared_error(y_test, y_pred)\n",
    "weights = model.coef_\n",
    "\n",
    "# Display results\n",
    "print(\"Mean Squared Error:\", mse)\n",
    "print(\"Feature Weights:\", dict(zip(features, weights)))"
   ]
  },
  {
   "cell_type": "code",
   "execution_count": 234,
   "id": "a95aa80a-58c2-4139-9867-65ab4dca6909",
   "metadata": {},
   "outputs": [
    {
     "name": "stdout",
     "output_type": "stream",
     "text": [
      "R^2 Score: -0.00023968087652836978\n"
     ]
    }
   ],
   "source": [
    "from sklearn.metrics import r2_score\n",
    "r2 = r2_score(y_test, y_pred)\n",
    "print(\"R^2 Score:\", r2)"
   ]
  }
 ],
 "metadata": {
  "kernelspec": {
   "display_name": "Python 3 (ipykernel)",
   "language": "python",
   "name": "python3"
  },
  "language_info": {
   "codemirror_mode": {
    "name": "ipython",
    "version": 3
   },
   "file_extension": ".py",
   "mimetype": "text/x-python",
   "name": "python",
   "nbconvert_exporter": "python",
   "pygments_lexer": "ipython3",
   "version": "3.11.5"
  }
 },
 "nbformat": 4,
 "nbformat_minor": 5
}
